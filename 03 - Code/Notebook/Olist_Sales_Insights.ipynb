{
 "cells": [
  {
   "cell_type": "code",
   "execution_count": 4,
   "id": "9ad4bda5",
   "metadata": {},
   "outputs": [],
   "source": [
    "import pandas as pd\n",
    "import polars as pl\n",
    "import pyarrow as pa\n",
    "from datetime import datetime, timedelta\n",
    "import random\n",
    "import numpy as np\n",
    "import os\n",
    "import db_dtypes\n",
    "import pprint as pp"
   ]
  },
  {
   "cell_type": "code",
   "execution_count": 5,
   "id": "6ad4702e",
   "metadata": {},
   "outputs": [
    {
     "name": "stdout",
     "output_type": "stream",
     "text": [
      "google.cloud.bigquery imported successfully.\n"
     ]
    }
   ],
   "source": [
    "try:\n",
    "    from google.cloud import bigquery\n",
    "    print(\"google.cloud.bigquery imported successfully.\")\n",
    "except ImportError:\n",
    "    print(\"google-cloud-bigquery not found. Please install it: pip install google-cloud-bigquery\")\n",
    "    bigquery = None # Set to None if import fails"
   ]
  },
  {
   "cell_type": "code",
   "execution_count": 6,
   "id": "34017767",
   "metadata": {},
   "outputs": [],
   "source": [
    "def fetch_bigquery_data(project_id, dataset_id, table_id, columns=None, limit=None):\n",
    "    \"\"\"\n",
    "    Fetches data from a BigQuery table and returns it as a Polars DataFrame.\n",
    "\n",
    "    Args:\n",
    "        project_id (str): Your Google Cloud Project ID.\n",
    "        dataset_id (str): The ID of the BigQuery dataset.\n",
    "        table_id (str): The ID of the BigQuery table.\n",
    "        columns (list of str, optional): A list of column names to select. If None, all columns are selected.\n",
    "        limit (int, optional): The maximum number of rows to return. If None, no limit is applied.\n",
    "\n",
    "    Returns:\n",
    "        polars.DataFrame or None: A Polars DataFrame containing the fetched data, or None if an error occurs.\n",
    "    \"\"\"\n",
    "    # Ensure bigquery client is available (check if the library was imported successfully)\n",
    "    # This check assumes 'bigquery' is imported globally or passed in.\n",
    "    # A more robust check might involve checking for google.cloud.bigquery.Client\n",
    "    try:\n",
    "        client = bigquery.Client(project=project_id)\n",
    "    except Exception as e:\n",
    "        print(f\"Error initializing BigQuery client: {e}\")\n",
    "        print(\"Please ensure the 'google-cloud-bigquery' library is installed and configured.\")\n",
    "        return None\n",
    "\n",
    "    try:\n",
    "        # Construct the fully qualified table ID for the query\n",
    "        # No need to explicitly construct table_ref for the query string itself,\n",
    "        # but client initialization handles project context.\n",
    "\n",
    "        # Build the SELECT statement\n",
    "        if columns:\n",
    "            select_cols = \", \".join(columns)\n",
    "        else:\n",
    "            select_cols = \"*\"\n",
    "\n",
    "        query = f\"SELECT {select_cols} FROM `{project_id}.{dataset_id}.{table_id}`\"\n",
    "        if limit:\n",
    "            query += f\" LIMIT {limit}\"\n",
    "\n",
    "        print(f\"Executing BigQuery query: {query}\")\n",
    "        query_job = client.query(query)\n",
    "\n",
    "        # Wait for the job to complete and fetch results as an Arrow Table\n",
    "        # The .to_arrow() method is efficient and ideal for Polars conversion.\n",
    "        # This implicitly uses the BigQuery Storage API if installed and available.\n",
    "        arrow_table = query_job.result().to_arrow()\n",
    "\n",
    "        # Convert the PyArrow Table to a Polars DataFrame\n",
    "        df = pl.DataFrame(arrow_table)\n",
    "        return df\n",
    "\n",
    "    except Exception as e:\n",
    "        print(f\"Error fetching data from BigQuery: {e}\")\n",
    "        print(\"Ensure your GCP project, dataset, table IDs are correct, and authentication is configured (e.g., GOOGLE_APPLICATION_CREDENTIALS).\")\n",
    "        return None\n",
    "\n"
   ]
  },
  {
   "cell_type": "code",
   "execution_count": 7,
   "id": "2b6e6c57",
   "metadata": {},
   "outputs": [],
   "source": [
    "# --- Configuration for dummy data generation (fallback if BigQuery fails) ---\n",
    "NUM_ORDERS = 125000\n",
    "# NUM_ORDERS = 10\n",
    "NUM_CUSTOMERS = 100000\n",
    "NUM_PRODUCTS = 35000\n",
    "NUM_SELLERS = 3500\n",
    "\n",
    "\n",
    "# --- Attempt to fetch real data, fallback to dummy if needed ---\n",
    "orders_df_pl = None\n",
    "order_items_df_pl = None\n",
    "orders_with_items_df_pl = None\n",
    "\n",
    "order_reviews_df_pl = None\n",
    "products_df_pl = None\n",
    "payments_df_pl = None\n",
    "customers_df_pl = None\n",
    "orders_loyalty_df_pl = None # Specific for loyalty insight"
   ]
  },
  {
   "cell_type": "code",
   "execution_count": 8,
   "id": "96a9265f",
   "metadata": {},
   "outputs": [
    {
     "name": "stdout",
     "output_type": "stream",
     "text": [
      "\n",
      "--- Attempting to fetch real data from BigQuery ---\n"
     ]
    }
   ],
   "source": [
    "print(\"\\n--- Attempting to fetch real data from BigQuery ---\")\n",
    "\n",
    "# Replace these with your actual BigQuery details\n",
    "BIGQUERY_PROJECT_ID = \"meltano-learn-461903\" # e.g., \"my-data-project-12345\"\n",
    "BIGQUERY_DATASET_ID = \"olist_raw\"   # e.g., \"ecommerce_data\""
   ]
  },
  {
   "cell_type": "code",
   "execution_count": 29,
   "id": "1d12d05c",
   "metadata": {},
   "outputs": [
    {
     "name": "stdout",
     "output_type": "stream",
     "text": [
      "Executing BigQuery query: SELECT order_id, customer_id, order_purchase_timestamp, order_estimated_delivery_date, order_delivered_customer_date FROM `meltano-learn-461903.olist_raw.olist_orders` LIMIT 125000\n",
      "shape: (5, 5)\n",
      "┌───────────────────┬───────────────────┬───────────────────┬───────────────────┬──────────────────┐\n",
      "│ order_id          ┆ customer_id       ┆ order_purchase_ti ┆ order_estimated_d ┆ order_delivered_ │\n",
      "│ ---               ┆ ---               ┆ mestamp           ┆ elivery_date      ┆ customer_date    │\n",
      "│ str               ┆ str               ┆ ---               ┆ ---               ┆ ---              │\n",
      "│                   ┆                   ┆ datetime[μs]      ┆ datetime[μs]      ┆ datetime[μs]     │\n",
      "╞═══════════════════╪═══════════════════╪═══════════════════╪═══════════════════╪══════════════════╡\n",
      "│ a2e4c44360b4a57bd ┆ 8886130db0ea6e9e7 ┆ 2017-02-06        ┆ 2017-03-01        ┆ null             │\n",
      "│ ff22f3a4630c173   ┆ 0ba0b03d7c0d286   ┆ 20:18:17          ┆ 00:00:00          ┆                  │\n",
      "│ 132f1e724165a07f6 ┆ b2191912d8ad6eac2 ┆ 2017-04-25        ┆ 2017-05-22        ┆ null             │\n",
      "│ 362532bfb97486e   ┆ e4dc3b6e1459515   ┆ 01:25:34          ┆ 00:00:00          ┆                  │\n",
      "│ 809a282bbd5dbcabb ┆ 622e13439d6b5a0b4 ┆ 2016-09-13        ┆ 2016-09-30        ┆ null             │\n",
      "│ 6f2f724fca862ec   ┆ 86c435618b2679e   ┆ 15:24:19          ┆ 00:00:00          ┆                  │\n",
      "│ e5215415bb6f76fe3 ┆ b6f6cbfc126f1ae67 ┆ 2016-10-22        ┆ 2016-10-24        ┆ null             │\n",
      "│ b7cb68103a0d1c0   ┆ 23fe2f9b3751208   ┆ 08:25:27          ┆ 00:00:00          ┆                  │\n",
      "│ 71303d7e93b399f5b ┆ b106b360fe2ef8849 ┆ 2016-10-02        ┆ 2016-10-25        ┆ null             │\n",
      "│ cd537d124c0bcfa   ┆ fbbd056f777b4d5   ┆ 22:07:52          ┆ 00:00:00          ┆                  │\n",
      "└───────────────────┴───────────────────┴───────────────────┴───────────────────┴──────────────────┘\n"
     ]
    }
   ],
   "source": [
    "# Fetch orders data\n",
    "\n",
    "orders_df_pl = fetch_bigquery_data(\n",
    "    project_id=BIGQUERY_PROJECT_ID,\n",
    "    dataset_id=BIGQUERY_DATASET_ID,\n",
    "    table_id=\"olist_orders\", # e.g., \"orders\"\n",
    "    # columns=['order_id', 'customer_id', 'order_purchase_timestamp', 'price', 'freight_value'],\n",
    "    columns=['order_id', 'customer_id', 'order_purchase_timestamp','order_estimated_delivery_date', 'order_delivered_customer_date'],\n",
    "    limit=NUM_ORDERS\n",
    ")\n",
    "\n",
    "date_format = \"%Y-%m-%d %H:%M:%S\"\n",
    "\n",
    "if orders_df_pl.schema['order_purchase_timestamp'] == pl.Utf8:\n",
    "    orders_df_pl = orders_df_pl.with_columns(\n",
    "        pl.col('order_purchase_timestamp')\n",
    "        .str.strptime(pl.Datetime, date_format, strict=False) # strict=False is good for parsing flexibility\n",
    "        .alias('order_purchase_timestamp')\n",
    "    )\n",
    "\n",
    "if orders_df_pl.schema['order_estimated_delivery_date'] == pl.Utf8:\n",
    "    orders_df_pl = orders_df_pl.with_columns(\n",
    "        pl.col('order_estimated_delivery_date')\n",
    "        .str.strptime(pl.Datetime, date_format, strict=False) # strict=False is good for parsing flexibility\n",
    "        .alias('order_estimated_delivery_date')\n",
    "    )\n",
    "\n",
    "if orders_df_pl.schema['order_delivered_customer_date'] == pl.Utf8:\n",
    "    orders_df_pl = orders_df_pl.with_columns(\n",
    "        pl.col('order_delivered_customer_date')\n",
    "        .str.strptime(pl.Datetime, date_format, strict=False) # strict=False is good for parsing flexibility\n",
    "        .alias('order_delivered_customer_date')\n",
    "    )\n",
    "\n",
    "pp.pprint(orders_df_pl.head(5))"
   ]
  },
  {
   "cell_type": "code",
   "execution_count": 30,
   "id": "6f92d6dc",
   "metadata": {},
   "outputs": [
    {
     "name": "stdout",
     "output_type": "stream",
     "text": [
      "Executing BigQuery query: SELECT order_id, product_id, seller_id, price, freight_value FROM `meltano-learn-461903.olist_raw.olist_order_items` LIMIT 125000\n",
      "shape: (5, 5)\n",
      "┌────────────────────────┬────────────────────────┬────────────────────────┬───────┬───────────────┐\n",
      "│ order_id               ┆ product_id             ┆ seller_id              ┆ price ┆ freight_value │\n",
      "│ ---                    ┆ ---                    ┆ ---                    ┆ ---   ┆ ---           │\n",
      "│ str                    ┆ str                    ┆ str                    ┆ f64   ┆ f64           │\n",
      "╞════════════════════════╪════════════════════════╪════════════════════════╪═══════╪═══════════════╡\n",
      "│ 3ee6513ae7ea23bdfab5b9 ┆ 8a3254bee785a526d548a8 ┆ 96804ea39d96eb908e7c3a ┆ 0.85  ┆ 18.23         │\n",
      "│ ab60bffcb5             ┆ 1a9bc3c9be             ┆ fdb671bb9e             ┆       ┆               │\n",
      "│ c5bdd8ef3c0ec420232e66 ┆ 8a3254bee785a526d548a8 ┆ 96804ea39d96eb908e7c3a ┆ 0.85  ┆ 22.3          │\n",
      "│ 8302179113             ┆ 1a9bc3c9be             ┆ fdb671bb9e             ┆       ┆               │\n",
      "│ 6e864b3f0ec71031117ad4 ┆ 8a3254bee785a526d548a8 ┆ 96804ea39d96eb908e7c3a ┆ 0.85  ┆ 18.23         │\n",
      "│ cf46b7f2a1             ┆ 1a9bc3c9be             ┆ fdb671bb9e             ┆       ┆               │\n",
      "│ 8272b63d03f5f79c56e9e4 ┆ 05b515fdc76e888aada3c6 ┆ 2709af9587499e95e803a6 ┆ 1.2   ┆ 7.89          │\n",
      "│ 120aec44ef             ┆ d66c201dff             ┆ 498a5a56e9             ┆       ┆               │\n",
      "│ 8272b63d03f5f79c56e9e4 ┆ 05b515fdc76e888aada3c6 ┆ 2709af9587499e95e803a6 ┆ 1.2   ┆ 7.89          │\n",
      "│ 120aec44ef             ┆ d66c201dff             ┆ 498a5a56e9             ┆       ┆               │\n",
      "└────────────────────────┴────────────────────────┴────────────────────────┴───────┴───────────────┘\n"
     ]
    }
   ],
   "source": [
    "order_items_df_pl = fetch_bigquery_data(\n",
    "    project_id=BIGQUERY_PROJECT_ID,\n",
    "    dataset_id=BIGQUERY_DATASET_ID,\n",
    "    table_id=\"olist_order_items\", # e.g., \"order_items\"\n",
    "    columns=['order_id', 'product_id', 'seller_id', 'price','freight_value'],\n",
    "    limit=NUM_ORDERS\n",
    ")\n",
    "\n",
    "# Explicitly cast 'price' and 'freight_value' as Float64\n",
    "order_items_df_pl = order_items_df_pl.with_columns([\n",
    "    pl.col(\"price\").cast(pl.Float64),\n",
    "    pl.col(\"freight_value\").cast(pl.Float64)\n",
    "])\n",
    "\n",
    "pp.pprint(order_items_df_pl.head(5))"
   ]
  },
  {
   "cell_type": "code",
   "execution_count": 31,
   "id": "7bc39efa",
   "metadata": {},
   "outputs": [
    {
     "name": "stdout",
     "output_type": "stream",
     "text": [
      "shape: (5, 9)\n",
      "┌────────────┬────────────┬────────────┬───────────┬───┬───────────┬───────────┬───────┬───────────┐\n",
      "│ order_id   ┆ customer_i ┆ order_purc ┆ order_est ┆ … ┆ product_i ┆ seller_id ┆ price ┆ freight_v │\n",
      "│ ---        ┆ d          ┆ hase_times ┆ imated_de ┆   ┆ d         ┆ ---       ┆ ---   ┆ alue      │\n",
      "│ str        ┆ ---        ┆ tamp       ┆ livery_da ┆   ┆ ---       ┆ str       ┆ f64   ┆ ---       │\n",
      "│            ┆ str        ┆ ---        ┆ te        ┆   ┆ str       ┆           ┆       ┆ f64       │\n",
      "│            ┆            ┆ datetime[μ ┆ ---       ┆   ┆           ┆           ┆       ┆           │\n",
      "│            ┆            ┆ s]         ┆ datetime[ ┆   ┆           ┆           ┆       ┆           │\n",
      "│            ┆            ┆            ┆ μs]       ┆   ┆           ┆           ┆       ┆           │\n",
      "╞════════════╪════════════╪════════════╪═══════════╪═══╪═══════════╪═══════════╪═══════╪═══════════╡\n",
      "│ a2e4c44360 ┆ 8886130db0 ┆ 2017-02-06 ┆ 2017-03-0 ┆ … ┆ dcecb611b ┆ 8cc6a0e57 ┆ 19.85 ┆ 10.96     │\n",
      "│ b4a57bdff2 ┆ ea6e9e70ba ┆ 20:18:17   ┆ 1         ┆   ┆ a878d5d8c ┆ 38e61a87b ┆       ┆           │\n",
      "│ 2f3a4630c1 ┆ 0b03d7c0d2 ┆            ┆ 00:00:00  ┆   ┆ 7853585b2 ┆ 03c78b2ba ┆       ┆           │\n",
      "│ 73         ┆ 86         ┆            ┆           ┆   ┆ 85c12     ┆ 9db4b     ┆       ┆           │\n",
      "│ a2e4c44360 ┆ 8886130db0 ┆ 2017-02-06 ┆ 2017-03-0 ┆ … ┆ dcecb611b ┆ 8cc6a0e57 ┆ 19.85 ┆ 10.96     │\n",
      "│ b4a57bdff2 ┆ ea6e9e70ba ┆ 20:18:17   ┆ 1         ┆   ┆ a878d5d8c ┆ 38e61a87b ┆       ┆           │\n",
      "│ 2f3a4630c1 ┆ 0b03d7c0d2 ┆            ┆ 00:00:00  ┆   ┆ 7853585b2 ┆ 03c78b2ba ┆       ┆           │\n",
      "│ 73         ┆ 86         ┆            ┆           ┆   ┆ 85c12     ┆ 9db4b     ┆       ┆           │\n",
      "│ 132f1e7241 ┆ b2191912d8 ┆ 2017-04-25 ┆ 2017-05-2 ┆ … ┆ c4a1c4638 ┆ 5444b12c8 ┆ 169.9 ┆ 9.56      │\n",
      "│ 65a07f6362 ┆ ad6eac2e4d ┆ 01:25:34   ┆ 2         ┆   ┆ fa9e2e486 ┆ 2f21c923f ┆       ┆           │\n",
      "│ 532bfb9748 ┆ c3b6e14595 ┆            ┆ 00:00:00  ┆   ┆ 1d141d6e0 ┆ 2639ebc72 ┆       ┆           │\n",
      "│ 6e         ┆ 15         ┆            ┆           ┆   ┆ 259e7     ┆ 2c1ea     ┆       ┆           │\n",
      "│ 809a282bbd ┆ 622e13439d ┆ 2016-09-13 ┆ 2016-09-3 ┆ … ┆ null      ┆ null      ┆ null  ┆ null      │\n",
      "│ 5dbcabb6f2 ┆ 6b5a0b486c ┆ 15:24:19   ┆ 0         ┆   ┆           ┆           ┆       ┆           │\n",
      "│ f724fca862 ┆ 435618b267 ┆            ┆ 00:00:00  ┆   ┆           ┆           ┆       ┆           │\n",
      "│ ec         ┆ 9e         ┆            ┆           ┆   ┆           ┆           ┆       ┆           │\n",
      "│ e5215415bb ┆ b6f6cbfc12 ┆ 2016-10-22 ┆ 2016-10-2 ┆ … ┆ null      ┆ null      ┆ null  ┆ null      │\n",
      "│ 6f76fe3b7c ┆ 6f1ae6723f ┆ 08:25:27   ┆ 4         ┆   ┆           ┆           ┆       ┆           │\n",
      "│ b68103a0d1 ┆ e2f9b37512 ┆            ┆ 00:00:00  ┆   ┆           ┆           ┆       ┆           │\n",
      "│ c0         ┆ 08         ┆            ┆           ┆   ┆           ┆           ┆       ┆           │\n",
      "└────────────┴────────────┴────────────┴───────────┴───┴───────────┴───────────┴───────┴───────────┘\n"
     ]
    }
   ],
   "source": [
    "orders_with_items_df_pl = orders_df_pl.join(\n",
    "    order_items_df_pl,\n",
    "    on=\"order_id\",\n",
    "    how=\"left\" # Use 'left' to keep all orders from orders_df_pl\n",
    ")\n",
    "\n",
    "pp.pprint(orders_with_items_df_pl.head(5))"
   ]
  },
  {
   "cell_type": "code",
   "execution_count": 12,
   "id": "28244d8f",
   "metadata": {},
   "outputs": [
    {
     "name": "stdout",
     "output_type": "stream",
     "text": [
      "Executing BigQuery query: SELECT review_id, order_id, review_score FROM `meltano-learn-461903.olist_raw.olist_order_reviews` LIMIT 125000\n",
      "shape: (5, 3)\n",
      "┌──────────────────────────────────┬──────────────────────────────────┬──────────────┐\n",
      "│ review_id                        ┆ order_id                         ┆ review_score │\n",
      "│ ---                              ┆ ---                              ┆ ---          │\n",
      "│ str                              ┆ str                              ┆ i64          │\n",
      "╞══════════════════════════════════╪══════════════════════════════════╪══════════════╡\n",
      "│ d7486b4da781b9d7dc5484ce65868081 ┆ 45973912e490866800c0aea8f63099c8 ┆ 1            │\n",
      "│ 65f4e79529365e241d4514d436ed50ba ┆ 73c182f8914a0064d6c64ad65e4c6942 ┆ 1            │\n",
      "│ 40dad6438b6cbec46d936bec2377778c ┆ bb5849f8ba21da43ffa31ea52ba81b37 ┆ 1            │\n",
      "│ 3f302efaba2d6b4cc696158658834c46 ┆ 2df094c40051a8f5ed95344421039ced ┆ 1            │\n",
      "│ 531c9a1377149f5e3e29c5c6d6252614 ┆ 14d45fea1c20e4fd5c31dde983344115 ┆ 1            │\n",
      "└──────────────────────────────────┴──────────────────────────────────┴──────────────┘\n"
     ]
    }
   ],
   "source": [
    "# Fetch other tables similarly\n",
    "order_reviews_df_pl = fetch_bigquery_data(\n",
    "    project_id=BIGQUERY_PROJECT_ID,\n",
    "    dataset_id=BIGQUERY_DATASET_ID,\n",
    "    table_id=\"olist_order_reviews\", # e.g., \"order_reviews\"\n",
    "    columns=['review_id', 'order_id', 'review_score'],\n",
    "    limit=NUM_ORDERS \n",
    ")\n",
    "\n",
    "# Explicitly cast 'review_score' as Int64\n",
    "order_reviews_df_pl = order_reviews_df_pl.with_columns([\n",
    "    pl.col(\"review_score\").cast(pl.Int64)\n",
    "])\n",
    "\n",
    "pp.pprint(order_reviews_df_pl.head(5))"
   ]
  },
  {
   "cell_type": "code",
   "execution_count": 13,
   "id": "aa45d7c1",
   "metadata": {},
   "outputs": [
    {
     "name": "stdout",
     "output_type": "stream",
     "text": [
      "Executing BigQuery query: SELECT product_id, product_category_name FROM `meltano-learn-461903.olist_raw.olist_products` LIMIT 35000\n",
      "shape: (5, 2)\n",
      "┌──────────────────────────────────┬───────────────────────┐\n",
      "│ product_id                       ┆ product_category_name │\n",
      "│ ---                              ┆ ---                   │\n",
      "│ str                              ┆ str                   │\n",
      "╞══════════════════════════════════╪═══════════════════════╡\n",
      "│ 7d0e0214a0852cf0c90032c7992cf27f ┆ market_place          │\n",
      "│ e4f61b606514ddd78124fd38f3433155 ┆ telefonia_fixa        │\n",
      "│ b0694770dbbfebe2d48cd288cfce2f85 ┆ artes                 │\n",
      "│ 4eda4a7eac36a8ff69db8880c4d95b7b ┆ livros_tecnicos       │\n",
      "│ 4e5696c21b0c174738e7929b147b7126 ┆ moveis_sala           │\n",
      "└──────────────────────────────────┴───────────────────────┘\n"
     ]
    }
   ],
   "source": [
    "products_df_pl = fetch_bigquery_data(\n",
    "    project_id=BIGQUERY_PROJECT_ID,\n",
    "    dataset_id=BIGQUERY_DATASET_ID,\n",
    "    table_id=\"olist_products\", # e.g., \"products\"\n",
    "    columns=['product_id', 'product_category_name'],\n",
    "    limit=NUM_PRODUCTS\n",
    ")\n",
    "\n",
    "pp.pprint(products_df_pl.head(5))"
   ]
  },
  {
   "cell_type": "code",
   "execution_count": 14,
   "id": "48c35780",
   "metadata": {},
   "outputs": [
    {
     "name": "stdout",
     "output_type": "stream",
     "text": [
      "Executing BigQuery query: SELECT order_id, payment_type, payment_value FROM `meltano-learn-461903.olist_raw.olist_order_payments` LIMIT 125000\n",
      "shape: (5, 3)\n",
      "┌──────────────────────────────────┬──────────────┬───────────────┐\n",
      "│ order_id                         ┆ payment_type ┆ payment_value │\n",
      "│ ---                              ┆ ---          ┆ ---           │\n",
      "│ str                              ┆ str          ┆ f64           │\n",
      "╞══════════════════════════════════╪══════════════╪═══════════════╡\n",
      "│ 25e8ea4e93396b6fa0d3dd708e76c1bd ┆ credit_card  ┆ 65.71         │\n",
      "│ b81ef226f3fe1789b1e8b2acac839d17 ┆ credit_card  ┆ 99.33         │\n",
      "│ a9810da82917af2d9aefd1278f1dcfa0 ┆ credit_card  ┆ 24.39         │\n",
      "│ ba78997921bbcdc1373bb41e913ab953 ┆ credit_card  ┆ 107.78        │\n",
      "│ 0573b5e23cbd798006520e1d5b4c6714 ┆ boleto       ┆ 51.95         │\n",
      "└──────────────────────────────────┴──────────────┴───────────────┘\n"
     ]
    }
   ],
   "source": [
    "payments_df_pl = fetch_bigquery_data(\n",
    "    project_id=BIGQUERY_PROJECT_ID,\n",
    "    dataset_id=BIGQUERY_DATASET_ID,\n",
    "    table_id=\"olist_order_payments\", # e.g., \"order_payments\"\n",
    "    columns=['order_id', 'payment_type', 'payment_value'],\n",
    "    limit=NUM_ORDERS\n",
    ")\n",
    "\n",
    "# Explicitly cast 'payment_value' as Float64\n",
    "payments_df_pl = payments_df_pl.with_columns([\n",
    "    pl.col(\"payment_value\").cast(pl.Float64)\n",
    "])\n",
    "\n",
    "pp.pprint(payments_df_pl.head(5))"
   ]
  },
  {
   "cell_type": "code",
   "execution_count": 15,
   "id": "b0e1f798",
   "metadata": {},
   "outputs": [
    {
     "name": "stdout",
     "output_type": "stream",
     "text": [
      "Executing BigQuery query: SELECT customer_id, customer_unique_id, customer_state FROM `meltano-learn-461903.olist_raw.olist_customers` LIMIT 100000\n",
      "shape: (5, 3)\n",
      "┌──────────────────────────────────┬──────────────────────────────────┬────────────────┐\n",
      "│ customer_id                      ┆ customer_unique_id               ┆ customer_state │\n",
      "│ ---                              ┆ ---                              ┆ ---            │\n",
      "│ str                              ┆ str                              ┆ str            │\n",
      "╞══════════════════════════════════╪══════════════════════════════════╪════════════════╡\n",
      "│ 8a0108267d9258a0ec9f74381bc9b0de ┆ 7a2dc4682890550ebe3b8befcea3d55c ┆ AC             │\n",
      "│ 888d2ebe1af2a8c93c75dae5dfc23719 ┆ 721d1092e1a6460c67e6a0e691d899a3 ┆ AC             │\n",
      "│ 2d618e470c95c9b425cbb0cbc42683dd ┆ f7d7fc0a59ef4363fdce6e3aa069d498 ┆ AC             │\n",
      "│ 0f32385df13e46d88d997460208bc866 ┆ 4f67110f6d6d1241111167b141bfa780 ┆ AC             │\n",
      "│ 53996870173a3a001a1fb56ef00b9150 ┆ 2624230437101e0bdcea1e48310d68a3 ┆ AC             │\n",
      "└──────────────────────────────────┴──────────────────────────────────┴────────────────┘\n"
     ]
    }
   ],
   "source": [
    "customers_df_pl = fetch_bigquery_data(\n",
    "    project_id=BIGQUERY_PROJECT_ID,\n",
    "    dataset_id=BIGQUERY_DATASET_ID,\n",
    "    table_id=\"olist_customers\", # e.g., \"customers\"\n",
    "    columns=['customer_id', 'customer_unique_id', 'customer_state'],\n",
    "    limit=NUM_CUSTOMERS\n",
    ")\n",
    "\n",
    "pp.pprint(customers_df_pl.head(5))"
   ]
  },
  {
   "cell_type": "code",
   "execution_count": 23,
   "id": "f7aba99b",
   "metadata": {},
   "outputs": [],
   "source": [
    "orders_loyalty_df_pl = orders_df_pl.join(\n",
    "    customers_df_pl,\n",
    "    on=\"customer_id\",\n",
    "    how=\"left\" # Use a left join to keep all orders from orders_df_pl\n",
    ")"
   ]
  },
  {
   "cell_type": "code",
   "execution_count": 16,
   "id": "397f7747",
   "metadata": {},
   "outputs": [
    {
     "name": "stdout",
     "output_type": "stream",
     "text": [
      "--- Insight 1: Total Revenue, Total Orders, Average Order Value ---\n",
      "\n",
      "Polars Implementation:\n",
      "Total Revenue: R$15,843,553.24\n",
      "Total Orders: 99441\n",
      "Average Order Value: R$159.33\n"
     ]
    }
   ],
   "source": [
    "# --- Start of EDA Scripts (using the now available DataFrames) ---\n",
    "\n",
    "# --- 1. Total Revenue, Total Orders, Average Order Value ---\n",
    "print(\"--- Insight 1: Total Revenue, Total Orders, Average Order Value ---\")\n",
    "# print(\"\\nPandas Implementation:\")\n",
    "# total_revenue_pl = (order_items_df_pl['price'] + order_items_df_pl['freight_value']).sum()\n",
    "# total_orders_pl = orders_df_pl['order_id'].unique()\n",
    "# average_order_value_pl = total_revenue_pl / total_orders_pl\n",
    "# print(f\"Total Revenue: R${total_revenue_pl:,.2f}\")\n",
    "# print(f\"Total Orders: {total_orders_pl}\")\n",
    "# print(f\"Average Order Value: R${average_order_value_pl:,.2f}\")\n",
    "\n",
    "print(\"\\nPolars Implementation:\")\n",
    "total_revenue_pl = order_items_df_pl.with_columns(\n",
    "    (pl.col('price') + pl.col('freight_value')).alias('total_price')\n",
    ").select(pl.sum('total_price')).item()\n",
    "total_orders_pl = orders_df_pl.select(pl.n_unique('order_id')).item()\n",
    "\n",
    "average_order_value_pl = total_revenue_pl / total_orders_pl\n",
    "print(f\"Total Revenue: R${total_revenue_pl:,.2f}\")\n",
    "print(f\"Total Orders: {total_orders_pl}\")\n",
    "print(f\"Average Order Value: R${average_order_value_pl:,.2f}\")"
   ]
  },
  {
   "cell_type": "code",
   "execution_count": 17,
   "id": "8c39e032",
   "metadata": {},
   "outputs": [
    {
     "name": "stdout",
     "output_type": "stream",
     "text": [
      "\n",
      "--- Insight 2: Average Product Rating ---\n",
      "\n",
      "Polars Implementation:\n",
      "Average Product Rating: 4.09 ★\n"
     ]
    }
   ],
   "source": [
    "# --- 2. Average Product Rating ---\n",
    "print(\"\\n--- Insight 2: Average Product Rating ---\")\n",
    "# print(\"\\nPandas Implementation:\")\n",
    "# average_rating_pd = order_reviews_df_pd['review_score'].mean()\n",
    "# print(f\"Average Product Rating: {average_rating_pd:.2f} ★\")\n",
    "\n",
    "print(\"\\nPolars Implementation:\")\n",
    "average_rating_pl = order_reviews_df_pl.select(pl.mean('review_score')).item()\n",
    "print(f\"Average Product Rating: {average_rating_pl:.2f} ★\")"
   ]
  },
  {
   "cell_type": "code",
   "execution_count": 33,
   "id": "dce9218b",
   "metadata": {},
   "outputs": [
    {
     "name": "stdout",
     "output_type": "stream",
     "text": [
      "\n",
      "--- Insight 3: Sales Growth Trajectory (Monthly Revenue Trend) ---\n",
      "\n",
      "Polars Implementation:\n",
      "Monthly Revenue Trend (Polars):\n",
      " shape: (5, 2)\n",
      "┌─────────────────────┬─────────────┐\n",
      "│ month_year          ┆ total_price │\n",
      "│ ---                 ┆ ---         │\n",
      "│ datetime[μs]        ┆ f64         │\n",
      "╞═════════════════════╪═════════════╡\n",
      "│ 2018-06-01 00:00:00 ┆ 1.0227e6    │\n",
      "│ 2018-07-01 00:00:00 ┆ 1.0587e6    │\n",
      "│ 2018-08-01 00:00:00 ┆ 1.0033e6    │\n",
      "│ 2018-09-01 00:00:00 ┆ 166.46      │\n",
      "│ 2018-10-01 00:00:00 ┆ 0.0         │\n",
      "└─────────────────────┴─────────────┘\n"
     ]
    }
   ],
   "source": [
    "# --- 3. Sales Growth Trajectory (Monthly Revenue Trend) ---\n",
    "print(\"\\n--- Insight 3: Sales Growth Trajectory (Monthly Revenue Trend) ---\")\n",
    "# print(\"\\nPandas Implementation:\")\n",
    "# orders_df_pd['order_purchase_timestamp'] = pd.to_datetime(orders_df_pd['order_purchase_timestamp'])\n",
    "# orders_df_pd['month_year'] = orders_df_pd['order_purchase_timestamp'].dt.to_period('M')\n",
    "# orders_df_pd['total_price'] = orders_df_pd['price'] + orders_df_pd['freight_value']\n",
    "# monthly_revenue_pd = orders_df_pd.groupby('month_year')['total_price'].sum().reset_index()\n",
    "# monthly_revenue_pd['month_year'] = monthly_revenue_pd['month_year'].astype(str)\n",
    "# print(\"Monthly Revenue Trend (Pandas):\\n\", monthly_revenue_pd.tail())\n",
    "\n",
    "print(\"\\nPolars Implementation:\")\n",
    "\n",
    "monthly_revenue_pl = orders_with_items_df_pl.with_columns(\n",
    "    pl.col('order_purchase_timestamp').dt.truncate('1mo').alias('month_year'),\n",
    "    (pl.col('price') + pl.col('freight_value')).alias('total_price')\n",
    ").group_by('month_year').agg(pl.sum('total_price')).sort('month_year')\n",
    "print(\"Monthly Revenue Trend (Polars):\\n\", monthly_revenue_pl.tail())"
   ]
  },
  {
   "cell_type": "code",
   "execution_count": 19,
   "id": "4888505b",
   "metadata": {},
   "outputs": [
    {
     "name": "stdout",
     "output_type": "stream",
     "text": [
      "\n",
      "--- Insight 4: Top Selling Product Categories ---\n",
      "\n",
      "Polars Implementation:\n",
      "Top Product Categories by Orders (Polars):\n",
      " shape: (5, 2)\n",
      "┌────────────────────────┬───────────────┐\n",
      "│ product_category_name  ┆ unique_orders │\n",
      "│ ---                    ┆ ---           │\n",
      "│ str                    ┆ u32           │\n",
      "╞════════════════════════╪═══════════════╡\n",
      "│ cama_mesa_banho        ┆ 9417          │\n",
      "│ beleza_saude           ┆ 8836          │\n",
      "│ esporte_lazer          ┆ 7720          │\n",
      "│ informatica_acessorios ┆ 6689          │\n",
      "│ moveis_decoracao       ┆ 6449          │\n",
      "└────────────────────────┴───────────────┘\n"
     ]
    }
   ],
   "source": [
    "# --- 4. Top Selling Product Categories (Number of Orders) ---\n",
    "print(\"\\n--- Insight 4: Top Selling Product Categories ---\")\n",
    "# print(\"\\nPandas Implementation:\")\n",
    "# merged_df_pd = pd.merge(order_items_df_pd, products_df_pd, on='product_id', how='left')\n",
    "# top_categories_pd = merged_df_pd.groupby('product_category_name')['order_id'].nunique().sort_values(ascending=False).head(5)\n",
    "# print(\"Top Product Categories by Orders (Pandas):\\n\", top_categories_pd)\n",
    "\n",
    "print(\"\\nPolars Implementation:\")\n",
    "merged_df_pl = order_items_df_pl.join(products_df_pl, on='product_id', how='left')\n",
    "top_categories_pl = merged_df_pl.group_by('product_category_name').agg(\n",
    "    pl.n_unique('order_id').alias('unique_orders')\n",
    ").sort('unique_orders', descending=True).head(5)\n",
    "print(\"Top Product Categories by Orders (Polars):\\n\", top_categories_pl)"
   ]
  },
  {
   "cell_type": "code",
   "execution_count": 20,
   "id": "7461e7f8",
   "metadata": {},
   "outputs": [
    {
     "name": "stdout",
     "output_type": "stream",
     "text": [
      "\n",
      "--- Insight 5: Payment Method Usage ---\n",
      "\n",
      "Polars Implementation:\n",
      "Payment Method Usage (Polars):\n",
      " shape: (5, 3)\n",
      "┌──────────────┬───────┬────────────┐\n",
      "│ payment_type ┆ count ┆ percentage │\n",
      "│ ---          ┆ ---   ┆ ---        │\n",
      "│ str          ┆ u32   ┆ f64        │\n",
      "╞══════════════╪═══════╪════════════╡\n",
      "│ not_defined  ┆ 3     ┆ 0.002888   │\n",
      "│ credit_card  ┆ 76795 ┆ 73.922376  │\n",
      "│ debit_card   ┆ 1529  ┆ 1.471806   │\n",
      "│ voucher      ┆ 5775  ┆ 5.558978   │\n",
      "│ boleto       ┆ 19784 ┆ 19.043952  │\n",
      "└──────────────┴───────┴────────────┘\n"
     ]
    }
   ],
   "source": [
    "# --- 5. Payment Method Usage (Percentage) ---\n",
    "print(\"\\n--- Insight 5: Payment Method Usage ---\")\n",
    "# print(\"\\nPandas Implementation:\")\n",
    "# payment_counts_pd = payments_df_pd['payment_type'].value_counts()\n",
    "# payment_percentages_pd = payment_counts_pd / payment_counts_pd.sum() * 100\n",
    "# print(\"Payment Method Usage (Pandas):\\n\", payment_percentages_pd)\n",
    "\n",
    "print(\"\\nPolars Implementation:\")\n",
    "\n",
    "# 1. Group by 'payment_type' and aggregate by counting the length of each group\n",
    "#    Use pl.count() as an aggregation expression within .agg()\n",
    "payment_counts_pl = payments_df_pl.group_by('payment_type').agg(\n",
    "    pl.count().alias('count') # This counts all rows in the group\n",
    ")\n",
    "\n",
    "# 2. Calculate the total number of payments (sum of the 'count' column)\n",
    "total_payments_pl = payment_counts_pl.select(pl.sum('count')).item()\n",
    "\n",
    "# 3. Calculate percentages\n",
    "payment_percentages_pl = payment_counts_pl.with_columns(\n",
    "    (pl.col('count') / total_payments_pl * 100).alias('percentage')\n",
    ")\n",
    "\n",
    "print(\"Payment Method Usage (Polars):\\n\", payment_percentages_pl)"
   ]
  },
  {
   "cell_type": "code",
   "execution_count": 21,
   "id": "2e280d01",
   "metadata": {},
   "outputs": [
    {
     "name": "stdout",
     "output_type": "stream",
     "text": [
      "\n",
      "--- Insight 6: Geographical Sales Hotspot ---\n",
      "\n",
      "Polars Implementation:\n",
      "Top States by Orders (Polars):\n",
      " shape: (5, 2)\n",
      "┌────────────────┬───────────────┐\n",
      "│ customer_state ┆ unique_orders │\n",
      "│ ---            ┆ ---           │\n",
      "│ str            ┆ u32           │\n",
      "╞════════════════╪═══════════════╡\n",
      "│ SP             ┆ 41746         │\n",
      "│ RJ             ┆ 12852         │\n",
      "│ MG             ┆ 11635         │\n",
      "│ RS             ┆ 5466          │\n",
      "│ PR             ┆ 5045          │\n",
      "└────────────────┴───────────────┘\n"
     ]
    }
   ],
   "source": [
    "# --- 6. Geographical Sales Hotspot (São Paulo) ---\n",
    "print(\"\\n--- Insight 6: Geographical Sales Hotspot ---\")\n",
    "# print(\"\\nPandas Implementation:\")\n",
    "# orders_customers_pd = pd.merge(orders_df_pd, customers_df_pd, on='customer_id', how='left')\n",
    "# sales_by_state_pd = orders_customers_pd.groupby('customer_state')['order_id'].nunique().sort_values(ascending=False).head(5)\n",
    "# print(\"Top States by Orders (Pandas):\\n\", sales_by_state_pd)\n",
    "\n",
    "print(\"\\nPolars Implementation:\")\n",
    "orders_customers_pl = orders_df_pl.join(customers_df_pl, on='customer_id', how='left')\n",
    "sales_by_state_pl = orders_customers_pl.group_by('customer_state').agg(\n",
    "    pl.n_unique('order_id').alias('unique_orders')\n",
    ").sort('unique_orders', descending=True).head(5)\n",
    "print(\"Top States by Orders (Polars):\\n\", sales_by_state_pl)"
   ]
  },
  {
   "cell_type": "code",
   "execution_count": 24,
   "id": "1810287b",
   "metadata": {},
   "outputs": [
    {
     "name": "stdout",
     "output_type": "stream",
     "text": [
      "\n",
      "--- Insight 7: Customer Loyalty (Second Purchase Barrier) ---\n",
      "\n",
      "Polars Implementation:\n",
      "Total Unique Customers (for loyalty): 96096\n",
      "Customers with 1 order: 93099\n",
      "Customers with >1 order: 2997\n",
      "Percentage of customers with only one order: 96.9%\n"
     ]
    }
   ],
   "source": [
    "# --- 7. Customer Loyalty (Second Purchase Barrier - 97% one-time buyers) ---\n",
    "print(\"\\n--- Insight 7: Customer Loyalty (Second Purchase Barrier) ---\")\n",
    "# print(\"\\nPandas Implementation:\")\n",
    "# customer_order_counts_pd = orders_loyalty_df_pd.groupby('customer_unique_id')['order_id'].nunique()\n",
    "# one_time_buyers_pd = (customer_order_counts_pd == 1).sum()\n",
    "# repeat_buyers_pd = (customer_order_counts_pd > 1).sum()\n",
    "# total_customers_for_loyalty_pd = customer_order_counts_pd.count()\n",
    "# one_time_percentage_pd = (one_time_buyers_pd / total_customers_for_loyalty_pd) * 100\n",
    "# print(f\"Total Unique Customers (for loyalty): {total_customers_for_loyalty_pd}\")\n",
    "# print(f\"Customers with 1 order: {one_time_buyers_pd}\")\n",
    "# print(f\"Customers with >1 order: {repeat_buyers_pd}\")\n",
    "# print(f\"Percentage of customers with only one order: {one_time_percentage_pd:.1f}%\")\n",
    "\n",
    "print(\"\\nPolars Implementation:\")\n",
    "customer_order_counts_pl = orders_loyalty_df_pl.group_by('customer_unique_id').agg(\n",
    "    pl.n_unique('order_id').alias('order_count')\n",
    ")\n",
    "one_time_buyers_pl = customer_order_counts_pl.filter(pl.col('order_count') == 1).shape[0]\n",
    "repeat_buyers_pl = customer_order_counts_pl.filter(pl.col('order_count') > 1).shape[0]\n",
    "total_customers_for_loyalty_pl = customer_order_counts_pl.shape[0]\n",
    "one_time_percentage_pl = (one_time_buyers_pl / total_customers_for_loyalty_pl) * 100\n",
    "print(f\"Total Unique Customers (for loyalty): {total_customers_for_loyalty_pl}\")\n",
    "print(f\"Customers with 1 order: {one_time_buyers_pl}\")\n",
    "print(f\"Customers with >1 order: {repeat_buyers_pl}\")\n",
    "print(f\"Percentage of customers with only one order: {one_time_percentage_pl:.1f}%\")"
   ]
  },
  {
   "cell_type": "code",
   "execution_count": 34,
   "id": "e1b89311",
   "metadata": {},
   "outputs": [
    {
     "name": "stdout",
     "output_type": "stream",
     "text": [
      "\n",
      "--- Insight 8: Delivery Expectation vs. Satisfaction ---\n",
      "\n",
      "Polars Implementation:\n",
      "Average Rating by Delivery Status (Polars):\n",
      " shape: (3, 2)\n",
      "┌─────────────────┬──────────────┐\n",
      "│ delivery_status ┆ review_score │\n",
      "│ ---             ┆ ---          │\n",
      "│ str             ┆ f64          │\n",
      "╞═════════════════╪══════════════╡\n",
      "│ Late            ┆ 3.983434     │\n",
      "│ On Time/Early   ┆ 4.382627     │\n",
      "│ Not Delivered   ┆ 1.761257     │\n",
      "└─────────────────┴──────────────┘\n"
     ]
    }
   ],
   "source": [
    "# --- 8. Delivery Expectation vs. Satisfaction ---\n",
    "print(\"\\n--- Insight 8: Delivery Expectation vs. Satisfaction ---\")\n",
    "# print(\"\\nPandas Implementation:\")\n",
    "# orders_df_pd['order_estimated_delivery_date'] = orders_df_pd['order_purchase_timestamp'] + pd.to_timedelta(np.random.randint(5, 15, orders_df_pd.shape[0]), unit='D')\n",
    "# orders_df_pd['order_delivered_customer_date'] = orders_df_pd.apply(\n",
    "#     lambda row: row['order_estimated_delivery_date'] + pd.to_timedelta(np.random.choice([-2, -1, 0, 1, 2], p=[0.1, 0.2, 0.4, 0.2, 0.1]), size=1, replace=True)[0], axis=1\n",
    "# )\n",
    "# delivery_merged_pd = pd.merge(orders_df_pd[['order_id', 'order_estimated_delivery_date', 'order_delivered_customer_date']],\n",
    "#                             order_reviews_df_pd[['order_id', 'review_score']], on='order_id', how='inner')\n",
    "\n",
    "# def get_delivery_status_pd(row):\n",
    "#     if pd.isna(row['order_delivered_customer_date']):\n",
    "#         return 'Not Delivered'\n",
    "#     if row['order_delivered_customer_date'] <= row['order_estimated_delivery_date']:\n",
    "#         return 'On Time/Early'\n",
    "#     else:\n",
    "#         return 'Late'\n",
    "\n",
    "# delivery_merged_pd['delivery_status'] = delivery_merged_pd.apply(get_delivery_status_pd, axis=1)\n",
    "# avg_rating_by_delivery_pd = delivery_merged_pd.groupby('delivery_status')['review_score'].mean()\n",
    "# print(\"Average Rating by Delivery Status (Pandas):\\n\", avg_rating_by_delivery_pd)\n",
    "\n",
    "print(\"\\nPolars Implementation:\")\n",
    "orders_df_pl = orders_df_pl.with_columns(\n",
    "    (pl.col('order_purchase_timestamp') + pl.duration(days=pl.Series(np.random.randint(5, 15, orders_df_pl.shape[0])))).alias('order_estimated_delivery_date')\n",
    ")\n",
    "delivery_merged_pl = orders_df_pl.select(['order_id', 'order_estimated_delivery_date', 'order_delivered_customer_date']).join(\n",
    "    order_reviews_df_pl.select(['order_id', 'review_score']), on='order_id', how='inner'\n",
    ")\n",
    "\n",
    "delivery_merged_pl = delivery_merged_pl.with_columns(\n",
    "    pl.when(pl.col('order_delivered_customer_date').is_null())\n",
    "    .then(pl.lit('Not Delivered'))\n",
    "    .when(pl.col('order_delivered_customer_date') <= pl.col('order_estimated_delivery_date'))\n",
    "    .then(pl.lit('On Time/Early'))\n",
    "    .otherwise(pl.lit('Late'))\n",
    "    .alias('delivery_status')\n",
    ")\n",
    "avg_rating_by_delivery_pl = delivery_merged_pl.group_by('delivery_status').agg(pl.mean('review_score'))\n",
    "print(\"Average Rating by Delivery Status (Polars):\\n\", avg_rating_by_delivery_pl)"
   ]
  },
  {
   "cell_type": "code",
   "execution_count": 35,
   "id": "14148ddb",
   "metadata": {},
   "outputs": [
    {
     "name": "stdout",
     "output_type": "stream",
     "text": [
      "\n",
      "--- Insight 9: Product Mix Optimization ---\n",
      "\n",
      "Polars Implementation:\n",
      "Product Category Metrics (Polars):\n",
      " shape: (5, 4)\n",
      "┌────────────────────────┬───────────────┬─────────────┬───────────────────────┐\n",
      "│ product_category_name  ┆ total_revenue ┆ order_count ┆ avg_revenue_per_order │\n",
      "│ ---                    ┆ ---           ┆ ---         ┆ ---                   │\n",
      "│ str                    ┆ f64           ┆ u32         ┆ f64                   │\n",
      "╞════════════════════════╪═══════════════╪═════════════╪═══════════════════════╡\n",
      "│ beleza_saude           ┆ 1.2587e6      ┆ 8836        ┆ 142.449224            │\n",
      "│ relogios_presentes     ┆ 1.2050e6      ┆ 5624        ┆ 214.261323            │\n",
      "│ cama_mesa_banho        ┆ 1.0370e6      ┆ 9417        ┆ 110.118794            │\n",
      "│ esporte_lazer          ┆ 988048.97     ┆ 7720        ┆ 127.985618            │\n",
      "│ informatica_acessorios ┆ 911954.32     ┆ 6689        ┆ 136.336421            │\n",
      "└────────────────────────┴───────────────┴─────────────┴───────────────────────┘\n"
     ]
    }
   ],
   "source": [
    "# --- 9. Product Mix Optimization (Revenue vs. Volume per Category) ---\n",
    "print(\"\\n--- Insight 9: Product Mix Optimization ---\")\n",
    "# print(\"\\nPandas Implementation:\")\n",
    "# merged_products_revenue_pd = pd.merge(order_items_df_pd, products_df_pd, on='product_id', how='left')\n",
    "# category_metrics_pd = merged_products_revenue_pd.groupby('product_category_name').agg(\n",
    "#     total_revenue=('price', 'sum'),\n",
    "#     order_count=('order_id', 'nunique')\n",
    "# ).sort_values(by='total_revenue', ascending=False)\n",
    "# category_metrics_pd['avg_revenue_per_order'] = category_metrics_pd['total_revenue'] / category_metrics_pd['order_count']\n",
    "# print(\"Product Category Metrics (Pandas):\\n\", category_metrics_pd.head())\n",
    "\n",
    "print(\"\\nPolars Implementation:\")\n",
    "merged_products_revenue_pl = order_items_df_pl.join(products_df_pl, on='product_id', how='left')\n",
    "category_metrics_pl = merged_products_revenue_pl.group_by('product_category_name').agg(\n",
    "    pl.sum('price').alias('total_revenue'),\n",
    "    pl.n_unique('order_id').alias('order_count')\n",
    ").with_columns(\n",
    "    (pl.col('total_revenue') / pl.col('order_count')).alias('avg_revenue_per_order')\n",
    ").sort('total_revenue', descending=True)\n",
    "print(\"Product Category Metrics (Polars):\\n\", category_metrics_pl.head())"
   ]
  },
  {
   "cell_type": "code",
   "execution_count": 36,
   "id": "e6480078",
   "metadata": {},
   "outputs": [
    {
     "name": "stdout",
     "output_type": "stream",
     "text": [
      "\n",
      "--- Insight 10: Seller Performance (Impact on Customer Ratings) ---\n",
      "\n",
      "Polars Implementation:\n",
      "Average Review Score by Dispatch Time (Polars):\n",
      " shape: (3, 2)\n",
      "┌────────────────────┬──────────────┐\n",
      "│ dispatch_time_days ┆ review_score │\n",
      "│ ---                ┆ ---          │\n",
      "│ i64                ┆ f64          │\n",
      "╞════════════════════╪══════════════╡\n",
      "│ 0                  ┆ 4.029775     │\n",
      "│ 2                  ┆ 4.037146     │\n",
      "│ 1                  ┆ 4.030513     │\n",
      "└────────────────────┴──────────────┘\n"
     ]
    }
   ],
   "source": [
    "# --- 10. Seller Performance (Impact on Customer Ratings) ---\n",
    "print(\"\\n--- Insight 10: Seller Performance (Impact on Customer Ratings) ---\")\n",
    "# print(\"\\nPandas Implementation:\")\n",
    "# orders_df_pd['order_approved_at'] = orders_df_pd['order_purchase_timestamp'] + pd.to_timedelta(np.random.randint(0, 3, orders_df_pd.shape[0]), unit='D')\n",
    "# seller_review_merge_pd = pd.merge(order_items_df_pd[['order_id', 'seller_id']],\n",
    "#                                   orders_df_pd[['order_id', 'order_purchase_timestamp', 'order_approved_at']],\n",
    "#                                   on='order_id', how='left')\n",
    "# seller_review_merge_pd = pd.merge(seller_review_merge_pd,\n",
    "#                                   order_reviews_df_pd[['order_id', 'review_score']],\n",
    "#                                   on='order_id', how='left')\n",
    "\n",
    "# seller_review_merge_pd['dispatch_time_days'] = (seller_review_merge_pd['order_approved_at'] - seller_review_merge_pd['order_purchase_timestamp']).dt.days\n",
    "\n",
    "# avg_review_by_dispatch_pd = seller_review_merge_pd.groupby('dispatch_time_days')['review_score'].mean().reset_index()\n",
    "# print(\"Average Review Score by Dispatch Time (Pandas):\\n\", avg_review_by_dispatch_pd)\n",
    "\n",
    "print(\"\\nPolars Implementation:\")\n",
    "orders_df_pl = orders_df_pl.with_columns(\n",
    "    (pl.col('order_purchase_timestamp') + pl.duration(days=pl.Series(np.random.randint(0, 3, orders_df_pl.shape[0])))).alias('order_approved_at')\n",
    ")\n",
    "seller_review_merge_pl = order_items_df_pl.select(['order_id', 'seller_id']).join(\n",
    "    orders_df_pl.select(['order_id', 'order_purchase_timestamp', 'order_approved_at']),\n",
    "    on='order_id',\n",
    "    how='left'\n",
    ").join(\n",
    "    order_reviews_df_pl.select(['order_id', 'review_score']),\n",
    "    on='order_id',\n",
    "    how='left'\n",
    ")\n",
    "\n",
    "seller_review_merge_pl = seller_review_merge_pl.with_columns(\n",
    "    ((pl.col('order_approved_at') - pl.col('order_purchase_timestamp')).dt.days()).alias('dispatch_time_days')\n",
    ")\n",
    "\n",
    "avg_review_by_dispatch_pl = seller_review_merge_pl.group_by('dispatch_time_days').agg(pl.mean('review_score'))\n",
    "print(\"Average Review Score by Dispatch Time (Polars):\\n\", avg_review_by_dispatch_pl)"
   ]
  }
 ],
 "metadata": {
  "kernelspec": {
   "display_name": "prj",
   "language": "python",
   "name": "python3"
  },
  "language_info": {
   "codemirror_mode": {
    "name": "ipython",
    "version": 3
   },
   "file_extension": ".py",
   "mimetype": "text/x-python",
   "name": "python",
   "nbconvert_exporter": "python",
   "pygments_lexer": "ipython3",
   "version": "3.10.18"
  }
 },
 "nbformat": 4,
 "nbformat_minor": 5
}
