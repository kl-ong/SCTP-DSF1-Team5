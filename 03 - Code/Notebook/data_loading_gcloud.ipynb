{
 "cells": [
  {
   "cell_type": "code",
   "execution_count": 15,
   "id": "a3c3104d",
   "metadata": {},
   "outputs": [
    {
     "name": "stdout",
     "output_type": "stream",
     "text": [
      "Requirement already satisfied: google-cloud-bigquery in /opt/anaconda3/envs/bde/lib/python3.10/site-packages (3.34.0)\n",
      "Requirement already satisfied: google-api-core[grpc]<3.0.0,>=2.11.1 in /opt/anaconda3/envs/bde/lib/python3.10/site-packages (from google-cloud-bigquery) (2.24.2)\n",
      "Requirement already satisfied: google-auth<3.0.0,>=2.14.1 in /opt/anaconda3/envs/bde/lib/python3.10/site-packages (from google-cloud-bigquery) (2.40.2)\n",
      "Requirement already satisfied: google-cloud-core<3.0.0,>=2.4.1 in /opt/anaconda3/envs/bde/lib/python3.10/site-packages (from google-cloud-bigquery) (2.4.3)\n",
      "Requirement already satisfied: google-resumable-media<3.0.0,>=2.0.0 in /opt/anaconda3/envs/bde/lib/python3.10/site-packages (from google-cloud-bigquery) (2.7.2)\n",
      "Requirement already satisfied: packaging>=24.2.0 in /opt/anaconda3/envs/bde/lib/python3.10/site-packages (from google-cloud-bigquery) (24.2)\n",
      "Requirement already satisfied: python-dateutil<3.0.0,>=2.8.2 in /opt/anaconda3/envs/bde/lib/python3.10/site-packages (from google-cloud-bigquery) (2.9.0.post0)\n",
      "Requirement already satisfied: requests<3.0.0,>=2.21.0 in /opt/anaconda3/envs/bde/lib/python3.10/site-packages (from google-cloud-bigquery) (2.31.0)\n",
      "Requirement already satisfied: googleapis-common-protos<2.0.0,>=1.56.2 in /opt/anaconda3/envs/bde/lib/python3.10/site-packages (from google-api-core[grpc]<3.0.0,>=2.11.1->google-cloud-bigquery) (1.70.0)\n",
      "Requirement already satisfied: protobuf!=3.20.0,!=3.20.1,!=4.21.0,!=4.21.1,!=4.21.2,!=4.21.3,!=4.21.4,!=4.21.5,<7.0.0,>=3.19.5 in /opt/anaconda3/envs/bde/lib/python3.10/site-packages (from google-api-core[grpc]<3.0.0,>=2.11.1->google-cloud-bigquery) (5.29.5)\n",
      "Requirement already satisfied: proto-plus<2.0.0,>=1.22.3 in /opt/anaconda3/envs/bde/lib/python3.10/site-packages (from google-api-core[grpc]<3.0.0,>=2.11.1->google-cloud-bigquery) (1.26.1)\n",
      "Requirement already satisfied: grpcio<2.0dev,>=1.33.2 in /opt/anaconda3/envs/bde/lib/python3.10/site-packages (from google-api-core[grpc]<3.0.0,>=2.11.1->google-cloud-bigquery) (1.71.0)\n",
      "Requirement already satisfied: grpcio-status<2.0.dev0,>=1.33.2 in /opt/anaconda3/envs/bde/lib/python3.10/site-packages (from google-api-core[grpc]<3.0.0,>=2.11.1->google-cloud-bigquery) (1.71.0)\n",
      "Requirement already satisfied: cachetools<6.0,>=2.0.0 in /opt/anaconda3/envs/bde/lib/python3.10/site-packages (from google-auth<3.0.0,>=2.14.1->google-cloud-bigquery) (5.5.2)\n",
      "Requirement already satisfied: pyasn1-modules>=0.2.1 in /opt/anaconda3/envs/bde/lib/python3.10/site-packages (from google-auth<3.0.0,>=2.14.1->google-cloud-bigquery) (0.4.2)\n",
      "Requirement already satisfied: rsa<5,>=3.1.4 in /opt/anaconda3/envs/bde/lib/python3.10/site-packages (from google-auth<3.0.0,>=2.14.1->google-cloud-bigquery) (4.9.1)\n",
      "Requirement already satisfied: google-crc32c<2.0dev,>=1.0 in /opt/anaconda3/envs/bde/lib/python3.10/site-packages (from google-resumable-media<3.0.0,>=2.0.0->google-cloud-bigquery) (1.7.1)\n",
      "Requirement already satisfied: six>=1.5 in /opt/anaconda3/envs/bde/lib/python3.10/site-packages (from python-dateutil<3.0.0,>=2.8.2->google-cloud-bigquery) (1.17.0)\n",
      "Requirement already satisfied: charset-normalizer<4,>=2 in /opt/anaconda3/envs/bde/lib/python3.10/site-packages (from requests<3.0.0,>=2.21.0->google-cloud-bigquery) (3.4.2)\n",
      "Requirement already satisfied: idna<4,>=2.5 in /opt/anaconda3/envs/bde/lib/python3.10/site-packages (from requests<3.0.0,>=2.21.0->google-cloud-bigquery) (3.7)\n",
      "Requirement already satisfied: urllib3<3,>=1.21.1 in /opt/anaconda3/envs/bde/lib/python3.10/site-packages (from requests<3.0.0,>=2.21.0->google-cloud-bigquery) (2.4.0)\n",
      "Requirement already satisfied: certifi>=2017.4.17 in /opt/anaconda3/envs/bde/lib/python3.10/site-packages (from requests<3.0.0,>=2.21.0->google-cloud-bigquery) (2025.4.26)\n",
      "Requirement already satisfied: pyasn1<0.7.0,>=0.6.1 in /opt/anaconda3/envs/bde/lib/python3.10/site-packages (from pyasn1-modules>=0.2.1->google-auth<3.0.0,>=2.14.1->google-cloud-bigquery) (0.6.1)\n"
     ]
    }
   ],
   "source": [
    "# install google-cloud-bigquery package\n",
    "!pip install google-cloud-bigquery"
   ]
  },
  {
   "cell_type": "code",
   "execution_count": 16,
   "id": "a5afeb35",
   "metadata": {},
   "outputs": [],
   "source": [
    "# function to upload CSV file to Google Cloud Storage (GCS)\n",
    "\n",
    "from google.cloud import storage\n",
    "\n",
    "def upload_csv_to_gcs(bucket_name, source_file_path, destination_blob_name):\n",
    "    \"\"\"Uploads a file to GCS.\"\"\"\n",
    "    # Initialize the GCS client\n",
    "    storage_client = storage.Client()\n",
    "    \n",
    "    # Get the bucket\n",
    "    bucket = storage_client.bucket(bucket_name)\n",
    "    \n",
    "    # Create a new blob (object) in the bucket\n",
    "    blob = bucket.blob(destination_blob_name)\n",
    "    \n",
    "    # Upload the file\n",
    "    blob.upload_from_filename(source_file_path)\n",
    "    \n",
    "    print(f\"Uploaded {source_file_path} to gs://{bucket_name}/{destination_blob_name}\")\n"
   ]
  },
  {
   "cell_type": "code",
   "execution_count": null,
   "id": "43e797b2",
   "metadata": {},
   "outputs": [
    {
     "name": "stdout",
     "output_type": "stream",
     "text": [
      "Uploaded /Users/taysk/sctp/Project/Olist/olist_sellers_dataset.csv to gs://sctp-grp5-olist/olist_sellers_dataset.csv\n"
     ]
    }
   ],
   "source": [
    "# upload sellers csv to GCS\n",
    "\n",
    "CSV_FILE_PATH = \"/Users/taysk/sctp/Project/Olist/olist_sellers_dataset.csv\"\n",
    "\n",
    "upload_csv_to_gcs(\n",
    "    bucket_name=\"sctp-grp5-olist\",\n",
    "    source_file_path=CSV_FILE_PATH,\n",
    "    destination_blob_name=\"olist_sellers_dataset.csv\"  \n",
    ")"
   ]
  },
  {
   "cell_type": "code",
   "execution_count": 18,
   "id": "2e0130e6",
   "metadata": {},
   "outputs": [],
   "source": [
    "from google.cloud import bigquery"
   ]
  },
  {
   "cell_type": "code",
   "execution_count": 19,
   "id": "1764d7d1",
   "metadata": {},
   "outputs": [],
   "source": [
    "# function to load CSV file from GCS into BigQuery\n",
    "\n",
    "def load_csv_from_gcs(project_id, dataset_id, table_id, gcs_uri):\n",
    "    \n",
    "    client = bigquery.Client(project=project_id)\n",
    "\n",
    "    table_ref = f\"{project_id}.{dataset_id}.{table_id}\"\n",
    "\n",
    "    job_config = bigquery.LoadJobConfig(\n",
    "        source_format=bigquery.SourceFormat.CSV,\n",
    "        skip_leading_rows=1,         # Skip header row\n",
    "        autodetect=True,             # Infer schema automatically\n",
    "        write_disposition=bigquery.WriteDisposition.WRITE_TRUNCATE  # Overwrite table\n",
    "    )\n",
    "    \n",
    "    load_job = client.load_table_from_uri(\n",
    "        gcs_uri,\n",
    "        table_ref,\n",
    "        job_config=job_config\n",
    "    )\n",
    "    \n",
    "    print(\"Starting job:\", load_job.job_id)\n",
    "    \n",
    "    load_job.result()  # Wait for job to finish\n",
    "    \n",
    "    print(f\"Loaded {load_job.output_rows} rows into {table_ref}.\")\n",
    "    \n",
    "    "
   ]
  },
  {
   "cell_type": "code",
   "execution_count": 20,
   "id": "ef0f4570",
   "metadata": {},
   "outputs": [
    {
     "name": "stdout",
     "output_type": "stream",
     "text": [
      "Starting job: 0b81092b-cab0-421e-b4f6-e22cc4a586cf\n",
      "Loaded 3095 rows into swift-habitat-460607-h9.sctp_olist.Sellers.\n"
     ]
    }
   ],
   "source": [
    "# load CSV file from GCS into BigQuery\n",
    "\n",
    "load_csv_from_gcs(\n",
    "    project_id=\"swift-habitat-460607-h9\",\n",
    "    dataset_id=\"sctp_olist\",\n",
    "    table_id=\"Sellers\",\n",
    "    gcs_uri=\"gs://sctp-grp5-olist/olist_sellers_dataset.csv\"\n",
    ")\n"
   ]
  },
  {
   "cell_type": "code",
   "execution_count": null,
   "id": "7335c5ed",
   "metadata": {},
   "outputs": [
    {
     "name": "stdout",
     "output_type": "stream",
     "text": [
      "Starting job: d6691ac5-3590-44c0-a779-dc78114b4fdb\n",
      "Loaded 32951 rows into swift-habitat-460607-h9.sctp_olist.Products.\n"
     ]
    }
   ],
   "source": [
    "# load products CSV file from GCS into BigQuery\n",
    "\n",
    "load_csv_from_gcs(\n",
    "    project_id=\"swift-habitat-460607-h9\",\n",
    "    dataset_id=\"sctp_olist\",\n",
    "    table_id=\"Products\",\n",
    "    gcs_uri=\"gs://sctp-grp5-olist/olist_products_dataset.csv\"\n",
    ")\n"
   ]
  },
  {
   "cell_type": "code",
   "execution_count": null,
   "id": "a8e3908d",
   "metadata": {},
   "outputs": [
    {
     "name": "stdout",
     "output_type": "stream",
     "text": [
      "Starting job: 5d6045c4-61d3-4bab-afc3-1f540adcf622\n",
      "Loaded 1000163 rows into swift-habitat-460607-h9.sctp_olist.Geolocation.\n"
     ]
    }
   ],
   "source": [
    "# load geolocation CSV file from GCS into BigQuery\n",
    "load_csv_from_gcs(\n",
    "    project_id=\"swift-habitat-460607-h9\",\n",
    "    dataset_id=\"sctp_olist\",\n",
    "    table_id=\"Geolocation\",\n",
    "    gcs_uri=\"gs://sctp-grp5-olist/olist_geolocation_dataset.csv\"\n",
    ")"
   ]
  }
 ],
 "metadata": {
  "kernelspec": {
   "display_name": "bde",
   "language": "python",
   "name": "python3"
  },
  "language_info": {
   "codemirror_mode": {
    "name": "ipython",
    "version": 3
   },
   "file_extension": ".py",
   "mimetype": "text/x-python",
   "name": "python",
   "nbconvert_exporter": "python",
   "pygments_lexer": "ipython3",
   "version": "3.10.13"
  }
 },
 "nbformat": 4,
 "nbformat_minor": 5
}
